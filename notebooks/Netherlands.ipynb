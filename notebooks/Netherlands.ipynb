{
 "cells": [
  {
   "cell_type": "code",
   "execution_count": 1,
   "metadata": {},
   "outputs": [],
   "source": [
    "import numpy as np"
   ]
  },
  {
   "cell_type": "code",
   "execution_count": 2,
   "metadata": {},
   "outputs": [],
   "source": [
    "def read_files(folder_path='/home/grad/ccomp/21/nuneslima/Datasets/Netherlands/data'):\n",
    "    train_label=np.load(folder_path+\"/train/train_labels.npy\")\n",
    "    train_seismic=np.load(folder_path+\"/train/train_seismic.npy\") \n",
    "    train_seismic =((train_seismic+1)/2)*255\n",
    "    train_seismic=train_seismic.astype(np.uint8)\n",
    "\n",
    "    test1_label=np.load(folder_path+\"/test_once/test1_labels.npy\")\n",
    "    test1_seismic=np.load(folder_path+\"/test_once/test1_seismic.npy\")    \n",
    "    test1_seismic =((test1_seismic+1)/2)*255\n",
    "    test1_seismic=test1_seismic.astype(np.uint8)\n",
    "\n",
    "    test2_label=np.load(folder_path+\"/test_once/test2_labels.npy\")\n",
    "    test2_label=np.transpose(test2_label,(1,0,2))\n",
    "    test2_seismic=np.load(folder_path+\"/test_once/test2_seismic.npy\")\n",
    "    test2_seismic=np.transpose(test2_seismic,(1,0,2))\n",
    "    test2_seismic =((test2_seismic+1)/2)*255\n",
    "    test2_seismic=test2_seismic.astype(np.uint8)\n",
    "\n",
    "\n",
    "    return train_label, train_seismic, test1_label, test1_seismic, test2_label, test2_seismic"
   ]
  },
  {
   "cell_type": "code",
   "execution_count": 3,
   "metadata": {},
   "outputs": [],
   "source": [
    "def divide_into_patches(images, patch_size, stride):\n",
    "    num_images, height, width = images.shape\n",
    "    \n",
    "    patches_per_dim_h = (height - patch_size) // stride + 1\n",
    "    patches_per_dim_w = (width - patch_size) // stride + 1\n",
    "    \n",
    "    num_patches_per_image = patches_per_dim_h * patches_per_dim_w\n",
    "    \n",
    "    patches = np.zeros((num_images * num_patches_per_image, patch_size, patch_size), dtype=images.dtype)\n",
    "    \n",
    "    idx = 0\n",
    "    for image in images:\n",
    "        for h in range(0, height - patch_size + 1, stride):\n",
    "            for w in range(0, width - patch_size + 1, stride):\n",
    "                patch = image[h:h+patch_size, w:w+patch_size]\n",
    "                patches[idx] = patch\n",
    "                idx += 1\n",
    "                \n",
    "    return patches"
   ]
  },
  {
   "cell_type": "code",
   "execution_count": 4,
   "metadata": {},
   "outputs": [],
   "source": [
    "def penobscot_data(patch,stride):\n",
    "    train_label, train_seismic, test1_label, test1_seismic, test2_label, test2_seismic = read_files()\n",
    "    patch_mask_train = divide_into_patches(train_label,patch,stride)\n",
    "    patch_train = divide_into_patches(train_seismic,patch,stride)\n",
    "    patch_mask_test = divide_into_patches(test1_label,patch,stride)\n",
    "    patch_test = divide_into_patches(test1_seismic,patch,stride)\n",
    "    patch_mask_val = divide_into_patches(test2_label,patch,stride)\n",
    "    patch_val = divide_into_patches(test2_seismic,patch,stride)\n",
    "\n",
    "    return patch_train, patch_mask_train, patch_test, patch_mask_test, patch_val, patch_mask_val\n"
   ]
  },
  {
   "cell_type": "code",
   "execution_count": 5,
   "metadata": {},
   "outputs": [],
   "source": [
    "def majority_class(array):\n",
    "    n, a, b = array.shape\n",
    "    majority_classes = []\n",
    "\n",
    "    for i in range(n):\n",
    "        sample = array[i]\n",
    "        flattened_sample = sample.flatten()\n",
    "        unique_classes, counts = np.unique(flattened_sample, return_counts=True)\n",
    "        majority_class_index = np.argmax(counts)\n",
    "        majority_class = unique_classes[majority_class_index]\n",
    "        majority_classes.append(majority_class)\n",
    "\n",
    "    return np.array(majority_classes)"
   ]
  },
  {
   "cell_type": "code",
   "execution_count": 6,
   "metadata": {},
   "outputs": [],
   "source": [
    "patch_train, patch_mask_train, patch_test, patch_mask_test, patch_val, patch_mask_val = penobscot_data(50,30)"
   ]
  },
  {
   "cell_type": "code",
   "execution_count": 7,
   "metadata": {},
   "outputs": [
    {
     "name": "stdout",
     "output_type": "stream",
     "text": [
      "(401, 701, 255) (401, 701, 255)\n",
      "(200, 701, 255) (200, 701, 255)\n",
      "(200, 601, 255) (200, 601, 255)\n"
     ]
    }
   ],
   "source": [
    "train_label, train_seismic, test1_label, test1_seismic, test2_label, test2_seismic = read_files()\n",
    "print(train_label.shape,train_seismic.shape)\n",
    "print(test1_label.shape,test1_seismic.shape)\n",
    "print(test2_label.shape,test2_seismic.shape)"
   ]
  },
  {
   "cell_type": "code",
   "execution_count": 8,
   "metadata": {},
   "outputs": [],
   "source": [
    "import matplotlib.pyplot as plt"
   ]
  },
  {
   "cell_type": "code",
   "execution_count": 9,
   "metadata": {},
   "outputs": [
    {
     "name": "stdout",
     "output_type": "stream",
     "text": [
      "(61754, 50, 50) (61754,)\n",
      "(30800, 50, 50) (30800,)\n",
      "(26600, 50, 50) (26600,)\n"
     ]
    }
   ],
   "source": [
    "print(patch_train.shape,majority_class(patch_mask_train).shape)\n",
    "print(patch_test.shape,majority_class(patch_mask_test).shape)\n",
    "print(patch_val.shape,majority_class(patch_mask_val).shape)"
   ]
  }
 ],
 "metadata": {
  "kernelspec": {
   "display_name": "seismic_tf",
   "language": "python",
   "name": "python3"
  },
  "language_info": {
   "codemirror_mode": {
    "name": "ipython",
    "version": 3
   },
   "file_extension": ".py",
   "mimetype": "text/x-python",
   "name": "python",
   "nbconvert_exporter": "python",
   "pygments_lexer": "ipython3",
   "version": "3.9.18"
  }
 },
 "nbformat": 4,
 "nbformat_minor": 2
}
