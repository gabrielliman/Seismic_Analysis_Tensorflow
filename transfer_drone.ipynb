{
 "cells": [
  {
   "cell_type": "code",
   "execution_count": 1,
   "metadata": {},
   "outputs": [],
   "source": [
    "import os\n",
    "import numpy as np\n",
    "from PIL import Image"
   ]
  },
  {
   "cell_type": "code",
   "execution_count": 2,
   "metadata": {},
   "outputs": [],
   "source": [
    "def load_images_from_tile():\n",
    "    image_data = []\n",
    "    folder_path=\"/home/gabriel/transfer_data/aerial_drone/dataset/semantic_drone_dataset/original_images\"\n",
    "    i=0\n",
    "    for filename in sorted(os.listdir(folder_path)):\n",
    "        if(i>100):\n",
    "            break\n",
    "        image_path = os.path.join(folder_path, filename)\n",
    "        img = Image.open(image_path)\n",
    "        img_gray = img.convert('L')\n",
    "        img_array = np.array(img_gray)\n",
    "        image_data.append(img_array)\n",
    "        i=i+1\n",
    "    return np.stack(image_data, axis=0)"
   ]
  },
  {
   "cell_type": "code",
   "execution_count": 3,
   "metadata": {},
   "outputs": [
    {
     "data": {
      "text/plain": [
       "(101, 4000, 6000)"
      ]
     },
     "execution_count": 3,
     "metadata": {},
     "output_type": "execute_result"
    }
   ],
   "source": [
    "images=load_images_from_tile()\n",
    "images.shape"
   ]
  },
  {
   "cell_type": "code",
   "execution_count": 4,
   "metadata": {},
   "outputs": [],
   "source": [
    "def load_masks_from_tile():\n",
    "    image_data = []\n",
    "    folder_path=\"/home/gabriel/transfer_data/aerial_drone/RGB_color_image_masks/RGB_color_image_masks\"\n",
    "    i=0\n",
    "    for filename in sorted(os.listdir(folder_path)):\n",
    "        if(i>100):\n",
    "            break\n",
    "        image_path = os.path.join(folder_path, filename)\n",
    "        img = Image.open(image_path)\n",
    "        img_gray = img.convert('L')\n",
    "        img_array = np.array(img_gray)\n",
    "\n",
    "        img_array[img_array==39]=1\n",
    "        img_array[img_array==42]=2\n",
    "        img_array[img_array==45]=3\n",
    "        img_array[img_array==46]=4\n",
    "        img_array[img_array==52]=5\n",
    "        img_array[img_array==60]=6\n",
    "        img_array[img_array==70]=7\n",
    "        img_array[img_array==83]=8\n",
    "        img_array[img_array==90]=9\n",
    "        img_array[img_array==93]=10\n",
    "        img_array[img_array==100]=11\n",
    "        img_array[img_array==104]=12\n",
    "        img_array[img_array==108]=13\n",
    "        img_array[img_array==119]=14\n",
    "        img_array[img_array==138]=15\n",
    "        img_array[img_array==153]=16\n",
    "        img_array[img_array==164]=17\n",
    "        img_array[img_array==211]=18\n",
    "        img_array[img_array==225]=19\n",
    "\n",
    "        image_data.append(img_array)\n",
    "        i=i+1\n",
    "    return np.stack(image_data, axis=0)"
   ]
  },
  {
   "cell_type": "code",
   "execution_count": 5,
   "metadata": {},
   "outputs": [
    {
     "data": {
      "text/plain": [
       "(101, 4000, 6000)"
      ]
     },
     "execution_count": 5,
     "metadata": {},
     "output_type": "execute_result"
    }
   ],
   "source": [
    "masks=load_masks_from_tile()\n",
    "masks.shape"
   ]
  },
  {
   "cell_type": "code",
   "execution_count": 6,
   "metadata": {},
   "outputs": [
    {
     "data": {
      "text/plain": [
       "array([ 0,  1,  2,  3,  4,  5,  6,  7,  8,  9, 10, 11, 12, 13, 14, 15, 16,\n",
       "       17, 18, 19], dtype=uint8)"
      ]
     },
     "execution_count": 6,
     "metadata": {},
     "output_type": "execute_result"
    }
   ],
   "source": [
    "np.unique(masks)"
   ]
  }
 ],
 "metadata": {
  "kernelspec": {
   "display_name": "seismic_tf",
   "language": "python",
   "name": "python3"
  },
  "language_info": {
   "codemirror_mode": {
    "name": "ipython",
    "version": 3
   },
   "file_extension": ".py",
   "mimetype": "text/x-python",
   "name": "python",
   "nbconvert_exporter": "python",
   "pygments_lexer": "ipython3",
   "version": "3.9.18"
  }
 },
 "nbformat": 4,
 "nbformat_minor": 2
}
