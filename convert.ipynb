{
 "cells": [
  {
   "cell_type": "code",
   "execution_count": 1,
   "metadata": {},
   "outputs": [],
   "source": [
    "# import tensorflow as tf\n",
    "# from tensorflow.keras import models\n",
    "# # segmentation_model = models.load_model(\"/home/grad/ccomp/21/nuneslima/Seismic-Analysis/models/parihaka_best100.keras\")\n"
   ]
  },
  {
   "cell_type": "code",
   "execution_count": 2,
   "metadata": {},
   "outputs": [],
   "source": [
    "# import tensorflow as tf\n",
    "# import tf2onnx\n",
    "\n",
    "\n",
    "# # Convert TensorFlow model to ONNX\n",
    "# onnx_model, _ = tf2onnx.convert.from_keras(segmentation_model, opset=13)\n",
    "\n",
    "# # Save the ONNX model to a file\n",
    "# onnx_path='/home/grad/ccomp/21/nuneslima/Seismic-Analysis/models/converted_model.onnx'\n",
    "# with open(onnx_path, 'wb') as f:\n",
    "#     f.write(onnx_model.SerializeToString())\n"
   ]
  },
  {
   "cell_type": "code",
   "execution_count": 3,
   "metadata": {},
   "outputs": [],
   "source": [
    "import onnx\n",
    "onnx_path='/home/grad/ccomp/21/nuneslima/Seismic-Analysis/models/converted_model.onnx'\n",
    "# Load the ONNX model\n",
    "onnx_model = onnx.load(onnx_path)\n"
   ]
  },
  {
   "cell_type": "code",
   "execution_count": 8,
   "metadata": {},
   "outputs": [
    {
     "name": "stderr",
     "output_type": "stream",
     "text": [
      "/home/grad/ccomp/21/nuneslima/miniconda3/envs/seismic_tf_yes/lib/python3.9/site-packages/onnx2pytorch/convert/layer.py:30: UserWarning: The given NumPy array is not writable, and PyTorch does not support non-writable tensors. This means writing to this tensor will result in undefined behavior. You may want to copy the array to protect its data or make it writable before converting it to a tensor. This type of warning will be suppressed for the rest of this program. (Triggered internally at ../torch/csrc/utils/tensor_numpy.cpp:206.)\n",
      "  layer.weight.data = torch.from_numpy(numpy_helper.to_array(weight))\n",
      "/home/grad/ccomp/21/nuneslima/miniconda3/envs/seismic_tf_yes/lib/python3.9/site-packages/onnx2pytorch/convert/attribute.py:101: UserWarning: Pytorch's interpolate uses no coordinate_transformation_mode=half_pixel. Result might differ.\n",
      "  warnings.warn(\n",
      "/home/grad/ccomp/21/nuneslima/miniconda3/envs/seismic_tf_yes/lib/python3.9/site-packages/onnx2pytorch/operations/resize.py:16: UserWarning: Pytorch's interpolate uses no exclude_outside. Result might differ.\n",
      "  warnings.warn(\n",
      "/home/grad/ccomp/21/nuneslima/miniconda3/envs/seismic_tf_yes/lib/python3.9/site-packages/onnx2pytorch/operations/resize.py:16: UserWarning: Pytorch's interpolate uses no nearest_mode. Result might differ.\n",
      "  warnings.warn(\n"
     ]
    }
   ],
   "source": [
    "import torch\n",
    "from onnx2pytorch import ConvertModel\n",
    "\n",
    "pytorch_model = ConvertModel(onnx_model)"
   ]
  },
  {
   "cell_type": "code",
   "execution_count": 10,
   "metadata": {},
   "outputs": [],
   "source": [
    "output_path = '/home/grad/ccomp/21/nuneslima/Seismic-Analysis/models/pytorch_model.pt'\n",
    "torch.save(pytorch_model, output_path)"
   ]
  }
 ],
 "metadata": {
  "kernelspec": {
   "display_name": "seismic_tf2",
   "language": "python",
   "name": "python3"
  },
  "language_info": {
   "codemirror_mode": {
    "name": "ipython",
    "version": 3
   },
   "file_extension": ".py",
   "mimetype": "text/x-python",
   "name": "python",
   "nbconvert_exporter": "python",
   "pygments_lexer": "ipython3",
   "version": "3.9.19"
  }
 },
 "nbformat": 4,
 "nbformat_minor": 2
}
